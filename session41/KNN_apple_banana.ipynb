{
 "cells": [
  {
   "cell_type": "markdown",
   "metadata": {},
   "source": [
    "![MyPic1](https://upload.wikimedia.org/wikipedia/commons/thumb/8/8a/Banana-Single.jpg/680px-Banana-Single.jpg)\n",
    "\n",
    "![MyPic2](https://hips.hearstapps.com/hmg-prod/images/red-fresh-apple-isolated-on-white-background-royalty-free-image-1627314996.jpg)\n",
    "\n",
    "- banana width ≈ 4cm\n",
    "- banana length ≈ 8cm\n",
    "- apple width ≈ 6cm\n",
    "- apple length ≈ 6cm\n",
    "\n",
    "assume:\n",
    "\n",
    "apple: 0\n",
    "\n",
    "banana: 1\n"
   ]
  },
  {
   "cell_type": "code",
   "execution_count": 1,
   "metadata": {},
   "outputs": [],
   "source": [
    "import numpy as np\n",
    "import matplotlib.pyplot as plt"
   ]
  },
  {
   "cell_type": "code",
   "execution_count": 2,
   "metadata": {},
   "outputs": [],
   "source": [
    "n = 100\n",
    "apple_width = np.random.normal(6, 1, n)\n",
    "apple_length = np.random.normal(6, 1, n)\n",
    "banana_width = np.random.normal(4, 1, n)\n",
    "banana_length = np.random.normal(8, 1, n)"
   ]
  },
  {
   "cell_type": "code",
   "execution_count": 3,
   "metadata": {},
   "outputs": [],
   "source": [
    "x_width = 3\n",
    "x_length = 9"
   ]
  },
  {
   "cell_type": "code",
   "execution_count": 4,
   "metadata": {},
   "outputs": [],
   "source": [
    "y_width = 7\n",
    "y_length = 5"
   ]
  },
  {
   "cell_type": "code",
   "execution_count": 5,
   "metadata": {},
   "outputs": [],
   "source": [
    "z_width = 5\n",
    "z_length = 7"
   ]
  },
  {
   "cell_type": "code",
   "execution_count": 6,
   "metadata": {},
   "outputs": [
    {
     "data": {
      "image/png": "[encoded data removed]",
      "text/plain": [
       "<Figure size 640x480 with 1 Axes>"
      ]
     },
     "metadata": {},
     "output_type": "display_data"
    }
   ],
   "source": [
    "plt.scatter(apple_width, apple_length, c='red', marker='.')\n",
    "plt.scatter(banana_width, banana_length, c='orange', marker='.')\n",
    "plt.scatter(x_width, x_length, c='blue', marker='o')\n",
    "plt.scatter(y_width, y_length, c='green', marker='o')\n",
    "plt.scatter(z_width, z_length, c='black', marker='o')\n",
    "plt.title('Apple and Banana')\n",
    "plt.xlabel('width')\n",
    "plt.ylabel('length')\n",
    "plt.show()"
   ]
  },
  {
   "cell_type": "code",
   "execution_count": 7,
   "metadata": {},
   "outputs": [],
   "source": [
    "# KNN: K Nearest Neighbors"
   ]
  },
  {
   "cell_type": "code",
   "execution_count": 8,
   "metadata": {},
   "outputs": [
    {
     "data": {
      "text/plain": [
       "array([[ 5.02048226,  6.03376893],\n",
       "       [ 6.66196663,  4.76455042],\n",
       "       [ 6.47697551,  5.771522  ],\n",
       "       [ 7.17265403,  6.71199231],\n",
       "       [ 4.97696094,  7.63768327],\n",
       "       [ 7.0179989 ,  5.99172903],\n",
       "       [ 4.69953592,  5.60847534],\n",
       "       [ 5.15105397,  6.32115957],\n",
       "       [ 6.68334407,  5.92951354],\n",
       "       [ 4.38108586,  6.62070208],\n",
       "       [ 8.32202247,  6.34982244],\n",
       "       [ 5.99945198,  5.66444745],\n",
       "       [ 6.53642188,  5.04913118],\n",
       "       [ 6.54200729,  7.59371209],\n",
       "       [ 5.94517535,  5.57032627],\n",
       "       [ 6.46433321,  5.9433928 ],\n",
       "       [ 5.10238212,  4.59890825],\n",
       "       [ 6.49633229,  5.30919416],\n",
       "       [ 7.51153537,  4.76400316],\n",
       "       [ 6.64643786,  6.10008754],\n",
       "       [ 5.66313372,  7.00932295],\n",
       "       [ 6.02803966,  5.31456295],\n",
       "       [ 6.30626213,  3.67574397],\n",
       "       [ 6.79899856,  4.35284719],\n",
       "       [ 5.64584015,  5.80638457],\n",
       "       [ 4.96637322,  4.93543003],\n",
       "       [ 5.01405679,  4.82722152],\n",
       "       [ 6.99394696,  4.99862705],\n",
       "       [ 5.94914133,  4.51596574],\n",
       "       [ 7.21779216,  5.14697766],\n",
       "       [ 5.51398357,  6.54973561],\n",
       "       [ 4.986795  ,  7.34809083],\n",
       "       [ 6.85199536,  4.71444462],\n",
       "       [ 8.77540757,  5.88308525],\n",
       "       [ 8.12477097,  6.96167238],\n",
       "       [ 7.3135071 ,  6.17867377],\n",
       "       [ 3.7493406 ,  5.64514301],\n",
       "       [ 7.08663987,  5.7550469 ],\n",
       "       [ 3.58026165,  6.96027249],\n",
       "       [ 8.17968437,  5.72198141],\n",
       "       [ 6.23715986,  5.49858443],\n",
       "       [ 7.34010286,  6.15739619],\n",
       "       [ 8.1488432 ,  6.77337475],\n",
       "       [ 5.28593906,  5.43706094],\n",
       "       [ 5.94775695,  7.16690679],\n",
       "       [ 6.46257797,  5.73136567],\n",
       "       [ 6.57143678,  7.90152876],\n",
       "       [ 6.60095228,  6.14250053],\n",
       "       [ 6.47957083,  5.45124549],\n",
       "       [ 6.57133761,  3.62157314],\n",
       "       [ 5.12259806,  6.27492412],\n",
       "       [ 6.64749698,  4.15543155],\n",
       "       [ 3.9955434 ,  5.68069717],\n",
       "       [ 6.6314267 ,  6.19219007],\n",
       "       [ 7.01949758,  5.42548704],\n",
       "       [ 4.16533217,  6.72747933],\n",
       "       [ 6.78236654,  6.479692  ],\n",
       "       [ 6.51936469,  6.32295257],\n",
       "       [ 5.81938219,  5.46416873],\n",
       "       [ 4.75865462,  4.5325587 ],\n",
       "       [ 7.35852409,  7.67727661],\n",
       "       [ 5.00705015,  5.32168115],\n",
       "       [ 7.01216144,  6.57461613],\n",
       "       [ 6.33570763,  5.86555273],\n",
       "       [ 7.16032082,  6.83882237],\n",
       "       [ 5.91160548,  8.12139959],\n",
       "       [ 5.94507615,  6.27179135],\n",
       "       [ 6.82082439,  7.01301267],\n",
       "       [ 5.62154791,  4.36947103],\n",
       "       [ 5.89608341,  5.14658842],\n",
       "       [ 5.25602188,  6.13696093],\n",
       "       [ 5.09337363,  5.46391096],\n",
       "       [ 7.53908522,  5.49338106],\n",
       "       [ 5.31212187,  5.42522827],\n",
       "       [ 6.94208304,  6.66138981],\n",
       "       [ 5.44297035,  5.43686628],\n",
       "       [ 4.96027291,  7.35394806],\n",
       "       [ 7.06363886,  6.757566  ],\n",
       "       [ 5.84652927,  6.17254564],\n",
       "       [ 4.70931821,  7.09867495],\n",
       "       [ 6.41332991,  7.30056023],\n",
       "       [ 7.42968644,  4.70930829],\n",
       "       [ 4.51097657,  3.67978877],\n",
       "       [ 5.45213838,  4.2198714 ],\n",
       "       [ 5.89241839,  7.35349664],\n",
       "       [ 7.0594203 ,  6.03530101],\n",
       "       [ 7.09338005,  4.37997001],\n",
       "       [ 6.3415625 ,  4.21893519],\n",
       "       [ 6.10127577,  6.16454249],\n",
       "       [ 7.73393762,  6.24719719],\n",
       "       [ 5.84708317,  6.69749048],\n",
       "       [ 6.44704366,  5.51720911],\n",
       "       [ 4.22242575,  6.52158213],\n",
       "       [ 5.48799968,  6.29567383],\n",
       "       [ 6.35775459,  6.80631236],\n",
       "       [ 6.69592682,  6.76884126],\n",
       "       [ 6.04654026,  5.091949  ],\n",
       "       [ 5.66638179,  6.69757807],\n",
       "       [ 7.43844918,  5.09393619],\n",
       "       [ 6.16634585,  7.85913969],\n",
       "       [ 4.54729316,  8.21907872],\n",
       "       [ 3.83160636,  8.01810362],\n",
       "       [ 6.56432812,  7.39223135],\n",
       "       [ 5.15720596,  8.78145959],\n",
       "       [ 4.58035801,  7.97235503],\n",
       "       [ 4.06179278,  9.07151894],\n",
       "       [ 5.37222057,  9.09930388],\n",
       "       [ 1.95818074,  7.9164956 ],\n",
       "       [ 4.73279782,  7.50436704],\n",
       "       [ 4.63724334,  6.38725856],\n",
       "       [ 2.97302479,  8.51080302],\n",
       "       [ 4.18685699,  7.73280224],\n",
       "       [ 5.93295824,  9.92087636],\n",
       "       [ 2.67359259,  8.71906807],\n",
       "       [ 4.2769247 ,  7.22604114],\n",
       "       [ 3.81614366,  7.75370146],\n",
       "       [ 4.12822558,  8.57176806],\n",
       "       [ 3.93679602,  8.26962739],\n",
       "       [ 5.20419665,  8.73122956],\n",
       "       [ 4.9735765 ,  8.91820973],\n",
       "       [ 3.95650233,  7.73268147],\n",
       "       [ 4.55441076,  7.0608807 ],\n",
       "       [ 4.70854804,  8.63970965],\n",
       "       [ 4.2117341 ,  9.01174301],\n",
       "       [ 3.57555839,  8.87109449],\n",
       "       [ 3.06181348,  7.02316443],\n",
       "       [ 5.31337472,  9.21779449],\n",
       "       [ 3.06917425,  7.12548161],\n",
       "       [ 3.92031139,  8.38522449],\n",
       "       [ 3.63491221,  7.37319741],\n",
       "       [ 2.95723538,  7.14875477],\n",
       "       [ 2.88493201,  7.6016227 ],\n",
       "       [ 2.61174226,  6.35787755],\n",
       "       [ 4.41254559,  8.48960476],\n",
       "       [ 3.46589818,  6.50920346],\n",
       "       [ 3.16059145,  7.85968853],\n",
       "       [ 5.35989815,  7.05213607],\n",
       "       [ 5.42965721,  6.99100354],\n",
       "       [ 3.46173138,  8.65804709],\n",
       "       [ 4.7297847 ,  6.5240345 ],\n",
       "       [ 5.1281084 ,  6.6771039 ],\n",
       "       [ 2.31597533,  7.67858526],\n",
       "       [ 3.53734083,  9.78082184],\n",
       "       [ 5.6481239 ,  8.68095514],\n",
       "       [ 3.08699325,  6.92528584],\n",
       "       [ 4.31920033,  8.75412717],\n",
       "       [ 4.64872038,  8.59129196],\n",
       "       [ 2.44867263,  8.61684719],\n",
       "       [ 3.63684356,  7.16440188],\n",
       "       [ 2.79338031,  9.71417863],\n",
       "       [ 3.10610583,  7.95381086],\n",
       "       [ 4.98218578,  8.22642823],\n",
       "       [ 3.72467401,  9.62892424],\n",
       "       [ 3.62132221,  8.20790425],\n",
       "       [ 5.49305174,  8.3349757 ],\n",
       "       [ 3.4628272 ,  6.82544969],\n",
       "       [ 4.30941889,  7.25706154],\n",
       "       [ 4.01279222,  6.7329871 ],\n",
       "       [ 5.3525158 ,  8.88123938],\n",
       "       [ 4.8082622 ,  7.53262903],\n",
       "       [ 4.27473366,  6.50661111],\n",
       "       [ 3.08937082,  5.56436911],\n",
       "       [ 6.08802678, 10.51687567],\n",
       "       [ 4.78445626,  7.89797176],\n",
       "       [ 4.23468246,  8.36325158],\n",
       "       [ 3.92031573,  6.82017651],\n",
       "       [ 2.66805283, 10.27580145],\n",
       "       [ 3.48519495,  9.4569536 ],\n",
       "       [ 4.38937231,  7.856545  ],\n",
       "       [ 4.60167898,  7.46119926],\n",
       "       [ 4.53456239,  7.26030825],\n",
       "       [ 2.83378982,  8.86526495],\n",
       "       [ 5.03293008,  8.99171514],\n",
       "       [ 3.5772886 ,  7.72545607],\n",
       "       [ 3.33835331,  7.77625424],\n",
       "       [ 4.78260425,  9.97190611],\n",
       "       [ 3.69000065,  7.28110008],\n",
       "       [ 3.4677499 ,  7.66590152],\n",
       "       [ 4.16397436,  7.94697845],\n",
       "       [ 5.08016055,  8.29324661],\n",
       "       [ 5.57231851,  7.61251726],\n",
       "       [ 3.23900892,  7.41313108],\n",
       "       [ 3.87426713,  8.39217453],\n",
       "       [ 4.47634021,  8.96827552],\n",
       "       [ 4.86868847,  8.50809455],\n",
       "       [ 4.0779571 ,  8.3844807 ],\n",
       "       [ 2.9040988 ,  9.31407409],\n",
       "       [ 4.7600959 ,  7.04718353],\n",
       "       [ 4.06913657,  8.16651883],\n",
       "       [ 2.80190541,  8.52828772],\n",
       "       [ 3.37942879,  8.61248821],\n",
       "       [ 3.54811642,  7.77730343],\n",
       "       [ 1.73991595,  8.53800193],\n",
       "       [ 5.79651232,  5.58445861],\n",
       "       [ 6.29179481,  7.86239459],\n",
       "       [ 4.83638655,  6.91460322],\n",
       "       [ 3.07698692,  8.4856052 ],\n",
       "       [ 5.25322378,  6.32753879],\n",
       "       [ 2.36776641,  6.71941437],\n",
       "       [ 2.73878737,  6.06430536]])"
      ]
     },
     "execution_count": 8,
     "metadata": {},
     "output_type": "execute_result"
    }
   ],
   "source": [
    "width = np.concatenate((apple_width, banana_width))\n",
    "# width.shape\n",
    "length = np.concatenate((apple_length, banana_length))\n",
    "\n",
    "X_train = np.array([width, length]).T   # replace rows and colums\n",
    "# X_train.shape\n",
    "X_train"
   ]
  },
  {
   "cell_type": "code",
   "execution_count": 9,
   "metadata": {},
   "outputs": [
    {
     "data": {
      "text/plain": [
       "array([0, 0, 0, 0, 0, 0, 0, 0, 0, 0, 0, 0, 0, 0, 0, 0, 0, 0, 0, 0, 0, 0,\n",
       "       0, 0, 0, 0, 0, 0, 0, 0, 0, 0, 0, 0, 0, 0, 0, 0, 0, 0, 0, 0, 0, 0,\n",
       "       0, 0, 0, 0, 0, 0, 0, 0, 0, 0, 0, 0, 0, 0, 0, 0, 0, 0, 0, 0, 0, 0,\n",
       "       0, 0, 0, 0, 0, 0, 0, 0, 0, 0, 0, 0, 0, 0, 0, 0, 0, 0, 0, 0, 0, 0,\n",
       "       0, 0, 0, 0, 0, 0, 0, 0, 0, 0, 0, 0, 1, 1, 1, 1, 1, 1, 1, 1, 1, 1,\n",
       "       1, 1, 1, 1, 1, 1, 1, 1, 1, 1, 1, 1, 1, 1, 1, 1, 1, 1, 1, 1, 1, 1,\n",
       "       1, 1, 1, 1, 1, 1, 1, 1, 1, 1, 1, 1, 1, 1, 1, 1, 1, 1, 1, 1, 1, 1,\n",
       "       1, 1, 1, 1, 1, 1, 1, 1, 1, 1, 1, 1, 1, 1, 1, 1, 1, 1, 1, 1, 1, 1,\n",
       "       1, 1, 1, 1, 1, 1, 1, 1, 1, 1, 1, 1, 1, 1, 1, 1, 1, 1, 1, 1, 1, 1,\n",
       "       1, 1])"
      ]
     },
     "execution_count": 9,
     "metadata": {},
     "output_type": "execute_result"
    }
   ],
   "source": [
    "Y_apple = np.zeros(n, dtype='int')\n",
    "Y_banana = np.ones(n, dtype='int')\n",
    "Y_train = np.concatenate((Y_apple, Y_banana)) # Y_train for distinguish the fruit is apple or banana\n",
    "Y_train"
   ]
  },
  {
   "cell_type": "code",
   "execution_count": 10,
   "metadata": {},
   "outputs": [],
   "source": [
    "def euclidean_distance(x1, x2):\n",
    "    return np.sqrt(np.sum((x1 - x2)**2))"
   ]
  },
  {
   "cell_type": "code",
   "execution_count": 11,
   "metadata": {},
   "outputs": [
    {
     "data": {
      "text/plain": [
       "6.708203932499369"
      ]
     },
     "execution_count": 11,
     "metadata": {},
     "output_type": "execute_result"
    }
   ],
   "source": [
    "point1 = np.array([4,5])\n",
    "point2 = np.array([10,2])\n",
    "euclidean_distance(point1, point2)"
   ]
  },
  {
   "cell_type": "code",
   "execution_count": 15,
   "metadata": {},
   "outputs": [
    {
     "data": {
      "text/plain": [
       "[0.9664481421719892,\n",
       " 2.785564200637453,\n",
       " 1.9210973034259782,\n",
       " 2.1916600934455914,\n",
       " 0.6380993231374832,\n",
       " 2.2558656705172413,\n",
       " 1.4235938780421598,\n",
       " 0.6954434747436035,\n",
       " 1.9948906075230468,\n",
       " 0.7258936750867917,\n",
       " 3.385050099517403,\n",
       " 1.668114166554667,\n",
       " 2.483240089957086,\n",
       " 1.6523560554735879,\n",
       " 1.7138621348242356,\n",
       " 1.805738220172309,\n",
       " 2.403273532111015,\n",
       " 2.2578385037313367,\n",
       " 3.362661413439986,\n",
       " 1.876326218604314,\n",
       " 0.6631992544198172,\n",
       " 1.9742248092216885,\n",
       " 3.571694123743792,\n",
       " 3.2005958538691965,\n",
       " 1.3571393766885465,\n",
       " 2.0648437999246965,\n",
       " 2.1728239535611698,\n",
       " 2.825122684214513,\n",
       " 2.6591907601113736,\n",
       " 2.890033540836988,\n",
       " 0.6833133439076963,\n",
       " 0.34834120921917955,\n",
       " 2.941708721941413,\n",
       " 3.937156445694671,\n",
       " 3.125006018676794,\n",
       " 2.4549728888661924,\n",
       " 1.8438509690550176,\n",
       " 2.429809494027608,\n",
       " 1.4202940701664455,\n",
       " 3.4269117597156113,\n",
       " 1.9454596463937668,\n",
       " 2.4871796370607324,\n",
       " 3.156987880615486,\n",
       " 1.5888800043043767,\n",
       " 0.9623414721452241,\n",
       " 1.936121741446414,\n",
       " 1.8116753725683787,\n",
       " 1.8161369804296048,\n",
       " 2.141908113631054,\n",
       " 3.7259723492782864,\n",
       " 0.7353674715867475,\n",
       " 3.287220096412627,\n",
       " 1.6581595279906058,\n",
       " 1.8204697112856467,\n",
       " 2.5607540992654685,\n",
       " 0.8780306961824054,\n",
       " 1.8567581678139096,\n",
       " 1.663388797425786,\n",
       " 1.7407368695934748,\n",
       " 2.479216439086946,\n",
       " 2.453841782332036,\n",
       " 1.6783336606982302,\n",
       " 2.056634409994168,\n",
       " 1.7524512757680437,\n",
       " 2.166325057101479,\n",
       " 1.445185661755979,\n",
       " 1.193087073556146,\n",
       " 1.820870885784236,\n",
       " 2.702962160653481,\n",
       " 2.058664602767233,\n",
       " 0.9002131104257001,\n",
       " 1.5389243599695746,\n",
       " 2.9524319467391136,\n",
       " 1.605405259115569,\n",
       " 1.971381083981018,\n",
       " 1.6246875863068366,\n",
       " 0.35617056520909257,\n",
       " 2.0778305028229944,\n",
       " 1.183762016486161,\n",
       " 0.30697336930486857,\n",
       " 1.4449352566763412,\n",
       " 3.3392581080963937,\n",
       " 3.356031367778997,\n",
       " 2.8166547743309707,\n",
       " 0.9598804400332251,\n",
       " 2.274171516275568,\n",
       " 3.35362448179015,\n",
       " 3.0877356468218204,\n",
       " 1.3823160195203215,\n",
       " 2.835688099834825,\n",
       " 0.8994786829095703,\n",
       " 2.0718600709190387,\n",
       " 0.9129651546526686,\n",
       " 0.8568658238587383,\n",
       " 1.371500060888253,\n",
       " 1.711608060552021,\n",
       " 2.176213488110635,\n",
       " 0.7317948600837278,\n",
       " 3.095014318213441,\n",
       " 1.4486143890298804,\n",
       " 1.3004216291817523,\n",
       " 1.5497350328253474,\n",
       " 1.6127516561089361,\n",
       " 1.7883825074400719,\n",
       " 1.059043766817418,\n",
       " 2.274076408691499,\n",
       " 2.132047124099433,\n",
       " 3.176889769871085,\n",
       " 0.5707741331249047,\n",
       " 0.7120705456686467,\n",
       " 2.528073227949948,\n",
       " 1.0946235375432583,\n",
       " 3.066256644157198,\n",
       " 2.892640051451728,\n",
       " 0.7575833191428251,\n",
       " 1.4034178691901407,\n",
       " 1.7973440088023251,\n",
       " 1.6560061672823079,\n",
       " 1.7432303550458965,\n",
       " 1.9183917095439227,\n",
       " 1.2750331499714167,\n",
       " 0.4497290657424808,\n",
       " 1.665410455795893,\n",
       " 2.1606649582132573,\n",
       " 2.3516012585488877,\n",
       " 1.9383249391996078,\n",
       " 2.2398250193281104,\n",
       " 1.9348988884474922,\n",
       " 1.7562956358374218,\n",
       " 1.4151823117031161,\n",
       " 2.048173644639805,\n",
       " 2.1989685011301874,\n",
       " 2.473074251961246,\n",
       " 1.601257323377475,\n",
       " 1.6106984916696234,\n",
       " 2.0303911445193066,\n",
       " 0.3636548453835896,\n",
       " 0.42975138237777155,\n",
       " 2.26172290179604,\n",
       " 0.5473202562211453,\n",
       " 0.3473811361400984,\n",
       " 2.7684772727470905,\n",
       " 3.1420283188535216,\n",
       " 1.8015756326521544,\n",
       " 1.9144652030194662,\n",
       " 1.8816084379104414,\n",
       " 1.6296034662871437,\n",
       " 3.0205076044720274,\n",
       " 1.3730343935791316,\n",
       " 3.4979902972622847,\n",
       " 2.1205165076368133,\n",
       " 1.226557599424948,\n",
       " 2.9219341209211063,\n",
       " 1.8329716666839424,\n",
       " 1.4231163435809697,\n",
       " 1.547051398354416,\n",
       " 0.7368737412506474,\n",
       " 1.0226803432044338,\n",
       " 1.9139824960389127,\n",
       " 0.5660892773226771,\n",
       " 0.8771794964531785,\n",
       " 2.3898828224526327,\n",
       " 3.681333560660353,\n",
       " 0.9234784148491757,\n",
       " 1.5633828098000906,\n",
       " 1.0945568125523084,\n",
       " 4.021051194156885,\n",
       " 2.8863914027079436,\n",
       " 1.0519199167726723,\n",
       " 0.6093967456958637,\n",
       " 0.533284683119443,\n",
       " 2.858615024535363,\n",
       " 1.9919873491999813,\n",
       " 1.5969953767189322,\n",
       " 1.8340230006756264,\n",
       " 2.9798467847321466,\n",
       " 1.3398192246994884,\n",
       " 1.6706930303378755,\n",
       " 1.2632129890898562,\n",
       " 1.2957285665850895,\n",
       " 0.838287464541884,\n",
       " 1.8088026033250661,\n",
       " 1.7903699072096044,\n",
       " 2.0367444883919785,\n",
       " 1.5138004753273209,\n",
       " 1.6634151353584419,\n",
       " 3.1221372037045296,\n",
       " 0.24450002261466,\n",
       " 1.4924050692083248,\n",
       " 2.6771782136980202,\n",
       " 2.286125378412786,\n",
       " 1.6468656706721705,\n",
       " 3.6046633621246107,\n",
       " 1.6242503775841002,\n",
       " 1.553209019181016,\n",
       " 0.18455885207809516,\n",
       " 2.4300210069295822,\n",
       " 0.7185585327588796,\n",
       " 2.6471459991320354,\n",
       " 2.447163052051554]"
      ]
     },
     "execution_count": 15,
     "metadata": {},
     "output_type": "execute_result"
    }
   ],
   "source": [
    "# distance of new_fruit to all 200 apples and bananas\n",
    "new_fruit = np.array([5, 7])\n",
    "\n",
    "distances = []\n",
    "for x in X_train:\n",
    "    d = euclidean_distance(new_fruit, x)\n",
    "    distances.append(d)\n",
    "\n",
    "distances"
   ]
  },
  {
   "cell_type": "code",
   "execution_count": 16,
   "metadata": {},
   "outputs": [],
   "source": [
    "K = 5"
   ]
  },
  {
   "cell_type": "code",
   "execution_count": 20,
   "metadata": {},
   "outputs": [
    {
     "data": {
      "text/plain": [
       "array([195, 187,  79, 140,  31], dtype=int64)"
      ]
     },
     "execution_count": 20,
     "metadata": {},
     "output_type": "execute_result"
    }
   ],
   "source": [
    "nearest_neighbors = np.argsort(distances)[0:K]  # argsort show the index of aaray # frut 189th, 76th\n",
    "nearest_neighbors"
   ]
  },
  {
   "cell_type": "code",
   "execution_count": 19,
   "metadata": {},
   "outputs": [
    {
     "data": {
      "text/plain": [
       "array([1, 1, 0, 1, 0])"
      ]
     },
     "execution_count": 19,
     "metadata": {},
     "output_type": "execute_result"
    }
   ],
   "source": [
    "Y_train[nearest_neighbors]"
   ]
  },
  {
   "cell_type": "code",
   "execution_count": 24,
   "metadata": {},
   "outputs": [
    {
     "data": {
      "text/plain": [
       "array([2, 3], dtype=int64)"
      ]
     },
     "execution_count": 24,
     "metadata": {},
     "output_type": "execute_result"
    }
   ],
   "source": [
    "result = np.bincount(Y_train[nearest_neighbors])  # bincount: count number of array 0:2  1:3\n",
    "result"
   ]
  },
  {
   "cell_type": "code",
   "execution_count": 28,
   "metadata": {},
   "outputs": [
    {
     "name": "stdout",
     "output_type": "stream",
     "text": [
      "🍌\n"
     ]
    }
   ],
   "source": [
    "if np.argmax(result) ==0:\n",
    "    print('🍎')\n",
    "else:\n",
    "    print('🍌')"
   ]
  }
 ],
 "metadata": {
  "kernelspec": {
   "display_name": "Python 3",
   "language": "python",
   "name": "python3"
  },
  "language_info": {
   "codemirror_mode": {
    "name": "ipython",
    "version": 3
   },
   "file_extension": ".py",
   "mimetype": "text/x-python",
   "name": "python",
   "nbconvert_exporter": "python",
   "pygments_lexer": "ipython3",
   "version": "3.10.8"
  }
 },
 "nbformat": 4,
 "nbformat_minor": 2
}
